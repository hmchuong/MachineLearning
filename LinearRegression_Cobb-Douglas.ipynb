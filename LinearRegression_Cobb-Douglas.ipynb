{
 "cells": [
  {
   "cell_type": "markdown",
   "metadata": {},
   "source": [
    "# Problem"
   ]
  },
  {
   "cell_type": "markdown",
   "metadata": {},
   "source": [
    "In economics, the Cobb-Douglas functional form of production functions is widely used to represent the relationship of an output to inputs. it was proposed by Knut Wicksell (1851 - 1926), and tested again statistical evidence by Charles Cobb and Paul Douglas in 1928. In 1928 Charles Cobb and Paul Douglas published a study in which they modeled the growth of the American economy during the period 1899-1922. They considered a simplified view of the economy in which production output is determined by the amount of labor involved and the amount of capital invested:\n",
    "\n",
    "${ P(L,K) = bL^ \\alpha K^ {1-\\alpha} }$\n",
    "\n",
    "${P}$ : total production (the monetary value of all goods produced in a year)   \n",
    "${L}$: labor input (the total number of person-hours worked in a year)  \n",
    "${K}$: capital input (the monetary worth of all machinery, equipment, and buildings)  \n",
    "${b}$: total factor productivity  \n",
    "${\\alpha}$: the output elasticities of labor  "
   ]
  },
  {
   "cell_type": "markdown",
   "metadata": {},
   "source": [
    "# Questions"
   ]
  },
  {
   "cell_type": "markdown",
   "metadata": {},
   "source": [
    "## Using the data about the American economy in the table to find out ${b}$ and ${\\alpha}$"
   ]
  },
  {
   "cell_type": "markdown",
   "metadata": {},
   "source": [
    "The equatation can be re-written as:  \n",
    "${log(P) = log(b) + \\alpha log(L) + (1-\\alpha)log(K) = log(b) + \\alpha (log(L) - log(K)) + log(K) }$   \n",
    "${log(P) - log(K) = log(b) + \\alpha (log(L) - log(K))}$  \n",
    "Then:  \n",
    "${y = log(P) - log(K)}$  \n",
    "${x = log(L) - log(K)}$"
   ]
  },
  {
   "cell_type": "code",
   "execution_count": 1,
   "metadata": {
    "collapsed": true
   },
   "outputs": [],
   "source": [
    "import tensorflow as tf\n",
    "import numpy as np"
   ]
  },
  {
   "cell_type": "markdown",
   "metadata": {},
   "source": [
    "### The data with columns: P, L, K"
   ]
  },
  {
   "cell_type": "code",
   "execution_count": 3,
   "metadata": {},
   "outputs": [
    {
     "name": "stdout",
     "output_type": "stream",
     "text": [
      "[[4.60517019 4.60517019 4.60517019]\n",
      " [4.61512052 4.65396035 4.67282883]\n",
      " [4.71849887 4.70048037 4.73619845]\n",
      " [4.80402104 4.76217393 4.80402104]\n",
      " [4.82028157 4.80402104 4.87519732]\n",
      " [4.80402104 4.79579055 4.92725369]\n",
      " [4.96284463 4.82831374 5.00394631]\n",
      " [5.02388052 4.8978398  5.0937502 ]\n",
      " [5.01727984 4.94164242 5.170484  ]\n",
      " [4.83628191 4.81218436 5.22035583]\n",
      " [5.04342512 4.96284463 5.28826703]\n",
      " [5.0689042  4.99043259 5.33753808]\n",
      " [5.03043792 4.99721227 5.37527841]\n",
      " [5.17614973 5.04342512 5.420535  ]\n",
      " [5.21493576 5.04985601 5.46383181]\n",
      " [5.12989871 5.52942909 5.49716823]\n",
      " [5.24174702 5.04985601 5.58349631]\n",
      " [5.4161004  5.20948615 5.69709349]\n",
      " [5.42495002 5.28826703 5.81413053]\n",
      " [5.40717177 5.30330491 5.90263333]\n",
      " [5.38449506 5.27811466 5.95842469]\n",
      " [5.44241771 5.26785816 6.00881319]\n",
      " [5.18738581 4.98360662 6.03308622]\n",
      " [5.48063892 5.08140436 6.06610809]]\n"
     ]
    }
   ],
   "source": [
    "origin_data = np.array([[100,100,100],\n",
    "                 [101,105,107],\n",
    "                 [112,110,114],\n",
    "                 [122,117,122],\n",
    "                 [124,122,131],\n",
    "                 [122,121,138],\n",
    "                 [143,125,149],\n",
    "                 [152,134,163],\n",
    "                 [151,140,176],\n",
    "                 [126,123,185],\n",
    "                 [155,143,198],\n",
    "                 [159,147,208],\n",
    "                 [153,148,216],\n",
    "                 [177,155,226],\n",
    "                 [184,156,236],\n",
    "                 [169,252,244],\n",
    "                 [189,156,266],\n",
    "                 [225,183,298],\n",
    "                 [227,198,335],\n",
    "                 [223,201,366],\n",
    "                 [218,196,387],\n",
    "                 [231,194,407],\n",
    "                 [179,146,417],\n",
    "                 [240,161,431]])\n",
    "transform_data = np.log(origin_data)\n",
    "print(transform_data)"
   ]
  },
  {
   "cell_type": "code",
   "execution_count": 87,
   "metadata": {},
   "outputs": [
    {
     "name": "stdout",
     "output_type": "stream",
     "text": [
      "[[ 0.        ]\n",
      " [-0.05770832]\n",
      " [-0.01769958]\n",
      " [ 0.        ]\n",
      " [-0.05491576]\n",
      " [-0.12323264]\n",
      " [-0.04110168]\n",
      " [-0.06986968]\n",
      " [-0.15320416]\n",
      " [-0.38407392]\n",
      " [-0.24484191]\n",
      " [-0.26863388]\n",
      " [-0.34484049]\n",
      " [-0.24438527]\n",
      " [-0.24889605]\n",
      " [-0.36726951]\n",
      " [-0.34174929]\n",
      " [-0.28099308]\n",
      " [-0.38918051]\n",
      " [-0.49546156]\n",
      " [-0.57392963]\n",
      " [-0.56639547]\n",
      " [-0.84570042]\n",
      " [-0.58546917]] (24, 1)\n",
      "[[ 1.          0.        ]\n",
      " [ 1.         -0.01886848]\n",
      " [ 1.         -0.03571808]\n",
      " [ 1.         -0.04184711]\n",
      " [ 1.         -0.07117628]\n",
      " [ 1.         -0.13146314]\n",
      " [ 1.         -0.17563257]\n",
      " [ 1.         -0.1959104 ]\n",
      " [ 1.         -0.22884157]\n",
      " [ 1.         -0.40817147]\n",
      " [ 1.         -0.3254224 ]\n",
      " [ 1.         -0.34710549]\n",
      " [ 1.         -0.37806613]\n",
      " [ 1.         -0.37710988]\n",
      " [ 1.         -0.4139758 ]\n",
      " [ 1.          0.03226086]\n",
      " [ 1.         -0.5336403 ]\n",
      " [ 1.         -0.48760733]\n",
      " [ 1.         -0.5258635 ]\n",
      " [ 1.         -0.59932843]\n",
      " [ 1.         -0.68031003]\n",
      " [ 1.         -0.74095503]\n",
      " [ 1.         -1.0494796 ]\n",
      " [ 1.         -0.98470373]] (24, 2)\n"
     ]
    }
   ],
   "source": [
    "# y = log(P) - log(K)\n",
    "y_data = transform_data[:,0:1] - transform_data[:,2:]\n",
    "print(y_data, y_data.shape)\n",
    "\n",
    "# x = log(L) - log(K)\n",
    "X_data = transform_data[:,1:2] - transform_data[:,2:]\n",
    "# Append x_0=1 to x\n",
    "X_data = np.append(np.tile(np.array([1]),(X_data.shape[0],1)), X_data, axis=1)\n",
    "print(X_data, X_data.shape)"
   ]
  },
  {
   "cell_type": "markdown",
   "metadata": {},
   "source": [
    "### Theta is ( ${log(b)}$, ${\\alpha}$ )"
   ]
  },
  {
   "cell_type": "code",
   "execution_count": 88,
   "metadata": {},
   "outputs": [
    {
     "name": "stdout",
     "output_type": "stream",
     "text": [
      "(2, 1)\n"
     ]
    }
   ],
   "source": [
    "theta = tf.Variable([[1],[2]], dtype=tf.float32)\n",
    "print(theta.shape)"
   ]
  },
  {
   "cell_type": "code",
   "execution_count": 89,
   "metadata": {
    "collapsed": true
   },
   "outputs": [],
   "source": [
    "X = tf.placeholder(tf.float32)\n",
    "y = tf.placeholder(tf.float32)"
   ]
  },
  {
   "cell_type": "code",
   "execution_count": 91,
   "metadata": {
    "collapsed": true
   },
   "outputs": [],
   "source": [
    "cost = tf.reduce_sum(tf.pow(tf.matmul(X, theta)-y, 2))/(2*y_data.shape[0])"
   ]
  },
  {
   "cell_type": "code",
   "execution_count": 93,
   "metadata": {},
   "outputs": [
    {
     "name": "stdout",
     "output_type": "stream",
     "text": [
      "[[ 1.        ]\n",
      " [ 1.0199714 ]\n",
      " [ 0.94626343]\n",
      " [ 0.9163058 ]\n",
      " [ 0.9125632 ]\n",
      " [ 0.8603064 ]\n",
      " [ 0.68983656]\n",
      " [ 0.6780489 ]\n",
      " [ 0.695521  ]\n",
      " [ 0.56773096]\n",
      " [ 0.5939971 ]\n",
      " [ 0.57442284]\n",
      " [ 0.5887083 ]\n",
      " [ 0.4901655 ]\n",
      " [ 0.42094445]\n",
      " [ 1.4317912 ]\n",
      " [ 0.27446863]\n",
      " [ 0.3057784 ]\n",
      " [ 0.33745345]\n",
      " [ 0.29680476]\n",
      " [ 0.21330959]\n",
      " [ 0.08448535]\n",
      " [-0.25325876]\n",
      " [-0.38393825]]\n"
     ]
    }
   ],
   "source": [
    "print(session.run(tf.matmul(X, theta)-y_data, feed_dict={X: X_data}))"
   ]
  },
  {
   "cell_type": "code",
   "execution_count": 139,
   "metadata": {
    "collapsed": true
   },
   "outputs": [],
   "source": [
    "train = tf.train.GradientDescentOptimizer(0.001).minimize(cost)\n",
    "init = tf.global_variables_initializer()\n",
    "session = tf.Session()\n",
    "session.run(init)"
   ]
  },
  {
   "cell_type": "code",
   "execution_count": 206,
   "metadata": {},
   "outputs": [
    {
     "name": "stdout",
     "output_type": "stream",
     "text": [
      "[[0.00700559]\n",
      " [0.77858937]]\n"
     ]
    }
   ],
   "source": [
    "num_iterations = 10000\n",
    "for _ in range(num_iterations):\n",
    "    session.run(train, feed_dict={X: X_data, y: y_data})\n",
    "print(session.run(theta))"
   ]
  },
  {
   "cell_type": "markdown",
   "metadata": {},
   "source": [
    "## Result:\n",
    "${log(b) = 0.00700559 <=> b = e^{0.00700559} = 1.007}$  \n",
    "${\\alpha = 0.77858937}$"
   ]
  }
 ],
 "metadata": {
  "kernelspec": {
   "display_name": "BoneSuppression",
   "language": "python",
   "name": "bonesuppression"
  },
  "language_info": {
   "codemirror_mode": {
    "name": "ipython",
    "version": 3
   },
   "file_extension": ".py",
   "mimetype": "text/x-python",
   "name": "python",
   "nbconvert_exporter": "python",
   "pygments_lexer": "ipython3",
   "version": "3.6.2"
  }
 },
 "nbformat": 4,
 "nbformat_minor": 2
}
